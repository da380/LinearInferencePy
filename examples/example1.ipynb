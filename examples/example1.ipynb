{
 "cells": [
  {
   "cell_type": "code",
   "execution_count": 1,
   "metadata": {},
   "outputs": [],
   "source": [
    "%reload_ext autoreload\n",
    "%autoreload 2"
   ]
  },
  {
   "cell_type": "code",
   "execution_count": 6,
   "metadata": {},
   "outputs": [
    {
     "name": "stdout",
     "output_type": "stream",
     "text": [
      "[0. 0. 0. 0. 0. 0. 0. 0. 0. 0.]\n",
      "[ 0.07972632 -0.08783617 -0.09350419 -0.0730401  -0.1601409  -0.10916788\n",
      "  0.08467794  0.03464447  0.00115169  0.03752208]\n"
     ]
    }
   ],
   "source": [
    "import numpy as np\n",
    "from linear_inference import EuclideanL2, GaussianMeasure\n",
    "\n",
    "dim = 10\n",
    "X = EuclideanL2(dim)\n",
    "\n",
    "covariance = 0.01* np.identity(dim)\n",
    "mean = np.zeros(dim)\n",
    "mean[2] = 1\n",
    "\n",
    "\n",
    "mu = GaussianMeasure.from_dense_covariance(X, covariance, mean = \n",
    "\n",
    "\n",
    "print(mu.mean)\n",
    "print(mu.sample())\n",
    "\n",
    "\n"
   ]
  },
  {
   "cell_type": "code",
   "execution_count": null,
   "metadata": {},
   "outputs": [],
   "source": []
  }
 ],
 "metadata": {
  "kernelspec": {
   "display_name": "linear-inference-_CQaSVLW-py3.12",
   "language": "python",
   "name": "python3"
  },
  "language_info": {
   "codemirror_mode": {
    "name": "ipython",
    "version": 3
   },
   "file_extension": ".py",
   "mimetype": "text/x-python",
   "name": "python",
   "nbconvert_exporter": "python",
   "pygments_lexer": "ipython3",
   "version": "3.12.3"
  }
 },
 "nbformat": 4,
 "nbformat_minor": 2
}
