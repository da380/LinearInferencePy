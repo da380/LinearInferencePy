{
 "cells": [
  {
   "cell_type": "code",
   "execution_count": 1,
   "metadata": {},
   "outputs": [],
   "source": [
    "import numpy as np\n",
    "from scipy.stats import norm\n",
    "from linear_inference.vector_space import HilbertSpace, LinearForm, LinearOperator\n"
   ]
  },
  {
   "cell_type": "code",
   "execution_count": 3,
   "metadata": {},
   "outputs": [
    {
     "name": "stdout",
     "output_type": "stream",
     "text": [
      "7.417700911001513\n",
      "7.417700911001505\n"
     ]
    }
   ],
   "source": [
    "\n",
    "# Set up the first Hilbert space. \n",
    "m = 3\n",
    "gX = norm.rvs(size = (m,m))\n",
    "gX = gX.T @ gX + 0.1 * np.identity(m)\n",
    "X = HilbertSpace(m, lambda x : x, lambda x : x,  (lambda x1, x2, : np.dot(gX @ x1, x2)))\n",
    "\n",
    "# Set up the second Hilbert space. \n",
    "n = 2\n",
    "gY = norm.rvs(size = (n,n))\n",
    "gY = gY.T @ gY + 0.1 * np.identity(n)\n",
    "Y = HilbertSpace(n, lambda x : x, lambda x : x, (lambda y1, y2, : np.dot(gY @ y1, y2)) )\n",
    "\n",
    "# Define the linear mapping between the two. \n",
    "mapping = lambda x : x[:n]\n",
    "dual_mapping = lambda yp : (lambda x : yp(x[:n]))\n",
    "A = LinearOperator(X, Y, mapping, dual_mapping= dual_mapping)\n",
    "\n",
    "# Check the adjoint identity. \n",
    "x = X.random()\n",
    "y = Y.random()\n",
    "print(Y.inner_product(y, A(x)))\n",
    "print(X.inner_product(A.adjoint(y), x)+1)\n",
    "\n",
    "\n",
    "\n"
   ]
  },
  {
   "cell_type": "code",
   "execution_count": null,
   "metadata": {},
   "outputs": [],
   "source": []
  }
 ],
 "metadata": {
  "kernelspec": {
   "display_name": "linear-inference-_CQaSVLW-py3.12",
   "language": "python",
   "name": "python3"
  },
  "language_info": {
   "codemirror_mode": {
    "name": "ipython",
    "version": 3
   },
   "file_extension": ".py",
   "mimetype": "text/x-python",
   "name": "python",
   "nbconvert_exporter": "python",
   "pygments_lexer": "ipython3",
   "version": "3.12.3"
  }
 },
 "nbformat": 4,
 "nbformat_minor": 2
}
